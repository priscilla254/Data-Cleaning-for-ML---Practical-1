{
 "cells": [
  {
   "cell_type": "markdown",
   "id": "cf92f238-6984-44d7-94ec-60772b65cf45",
   "metadata": {},
   "source": [
    "# Practical 1\n",
    "\n",
    "## How to work on the practical\n",
    "To work on your practical you need to open the `Practical_work.ipynb` file through Jupyter notebook.\n",
    "A separate `pdf` file contains the script that you need to follow with snippets of code that you will need to add to your notebook.\n",
    "There are segements where you need to create your own code, or add your own comments. These are all indicated with the note **ToDo**.\n",
    "For some of the tasks you may need to revisit the lecture notes to check some of the code examples that were presented there.\n"
   ]
  },
  {
   "cell_type": "markdown",
   "id": "1afb8583-12e2-4cb1-85c9-3c120113a356",
   "metadata": {},
   "source": [
    "# Description\n",
    "In this practical you will work with a dataset holding information about potential bank clients seeking to get a loan.\n",
    "The dataset holds information about their employment, family, age, and financial state. The purpose is to use this information to explore the potential risk of an individual to default on a loan. In the dataset this is reflected on the feature `debt` which indicates if a person has defaulted in the payments of a loan.\n",
    "\n",
    "## Description of the features in the dataset\n",
    "- children: the number of children in the family \n",
    "- days_employed: how long the customer has worked \n",
    "- dob_years: the customer’s age \n",
    "- education: the customer’s education level \n",
    "- education_id: identifier for the customer’s education \n",
    "- family_status: the customer’s marital status \n",
    "- family_status_id: identifier for the customer’s marital status \n",
    "- gender: the customer’s gender \n",
    "- income_type: the customer’s income type \n",
    "- debt: whether the client has ever defaulted on a loan \n",
    "- total_income: annual income \n",
    "- purpose: reason for taking out a loan written by the client\n",
    "- purpose-short: processed fixed text representing the purpose for the loan\n",
    "\n",
    "## Objective\n",
    "The dataset is not cleaned. As part of this assignment you will need to clean your dataset and prepare it for further data analysis.\n",
    "\n",
    "."
   ]
  },
  {
   "cell_type": "markdown",
   "id": "ecabd9b7-394e-4d90-8515-b005e0bdeb42",
   "metadata": {},
   "source": [
    "### Loading libraries"
   ]
  },
  {
   "cell_type": "code",
   "execution_count": 1,
   "id": "daf97f7f-5fdc-4a0d-b6cc-00aaad5afe69",
   "metadata": {},
   "outputs": [],
   "source": [
    "import pandas as pd"
   ]
  },
  {
   "cell_type": "markdown",
   "id": "50ae2bc8-6469-4c82-be6d-05f83bdad79a",
   "metadata": {},
   "source": [
    "## Exploring the dataset\n",
    "Read the dataset from the csv file."
   ]
  },
  {
   "cell_type": "code",
   "execution_count": 3,
   "id": "75ebabcd-5f90-4580-b1ff-5a32654b05b7",
   "metadata": {},
   "outputs": [],
   "source": [
    "df = pd.read_csv(\"credit_scoring_pre.csv\")"
   ]
  },
  {
   "cell_type": "markdown",
   "id": "be348e11-1ecb-402a-8e9d-aaef87c40afc",
   "metadata": {},
   "source": [
    "#### ToDo\n",
    "\n",
    "Explore your dataset. Use the functions __[head](https://pandas.pydata.org/docs/reference/api/pandas.DataFrame.head.html)__, __[info](https://pandas.pydata.org/docs/reference/api/pandas.DataFrame.info.html)__, and __[describe](https://pandas.pydata.org/docs/reference/api/pandas.DataFrame.describe.html)__ on the dataframe and see their outputs."
   ]
  },
  {
   "cell_type": "code",
   "execution_count": 6,
   "id": "919e230f-460e-4865-91e7-1c6c2dbba1ea",
   "metadata": {},
   "outputs": [
    {
     "data": {
      "text/html": [
       "<div>\n",
       "<style scoped>\n",
       "    .dataframe tbody tr th:only-of-type {\n",
       "        vertical-align: middle;\n",
       "    }\n",
       "\n",
       "    .dataframe tbody tr th {\n",
       "        vertical-align: top;\n",
       "    }\n",
       "\n",
       "    .dataframe thead th {\n",
       "        text-align: right;\n",
       "    }\n",
       "</style>\n",
       "<table border=\"1\" class=\"dataframe\">\n",
       "  <thead>\n",
       "    <tr style=\"text-align: right;\">\n",
       "      <th></th>\n",
       "      <th>children</th>\n",
       "      <th>days_employed</th>\n",
       "      <th>dob_years</th>\n",
       "      <th>education</th>\n",
       "      <th>education_id</th>\n",
       "      <th>family_status</th>\n",
       "      <th>family_status_id</th>\n",
       "      <th>gender</th>\n",
       "      <th>income_type</th>\n",
       "      <th>debt</th>\n",
       "      <th>total_income</th>\n",
       "      <th>purpose</th>\n",
       "      <th>purpose_short</th>\n",
       "    </tr>\n",
       "  </thead>\n",
       "  <tbody>\n",
       "    <tr>\n",
       "      <th>0</th>\n",
       "      <td>1</td>\n",
       "      <td>-8437.673028</td>\n",
       "      <td>42</td>\n",
       "      <td>masters degree</td>\n",
       "      <td>0</td>\n",
       "      <td>married</td>\n",
       "      <td>0</td>\n",
       "      <td>F</td>\n",
       "      <td>employee</td>\n",
       "      <td>0</td>\n",
       "      <td>253875.639453</td>\n",
       "      <td>purchase of the house</td>\n",
       "      <td>house</td>\n",
       "    </tr>\n",
       "    <tr>\n",
       "      <th>1</th>\n",
       "      <td>1</td>\n",
       "      <td>-4024.803754</td>\n",
       "      <td>36</td>\n",
       "      <td>secondary education</td>\n",
       "      <td>1</td>\n",
       "      <td>married</td>\n",
       "      <td>0</td>\n",
       "      <td>F</td>\n",
       "      <td>employee</td>\n",
       "      <td>0</td>\n",
       "      <td>112080.014102</td>\n",
       "      <td>car purchase</td>\n",
       "      <td>car</td>\n",
       "    </tr>\n",
       "    <tr>\n",
       "      <th>2</th>\n",
       "      <td>0</td>\n",
       "      <td>-5623.422610</td>\n",
       "      <td>33</td>\n",
       "      <td>Secondary Education</td>\n",
       "      <td>1</td>\n",
       "      <td>married</td>\n",
       "      <td>0</td>\n",
       "      <td>M</td>\n",
       "      <td>employee</td>\n",
       "      <td>0</td>\n",
       "      <td>145885.952297</td>\n",
       "      <td>purchase of the house</td>\n",
       "      <td>house</td>\n",
       "    </tr>\n",
       "    <tr>\n",
       "      <th>3</th>\n",
       "      <td>3</td>\n",
       "      <td>-4124.747207</td>\n",
       "      <td>32</td>\n",
       "      <td>secondary education</td>\n",
       "      <td>1</td>\n",
       "      <td>married</td>\n",
       "      <td>0</td>\n",
       "      <td>M</td>\n",
       "      <td>employee</td>\n",
       "      <td>0</td>\n",
       "      <td>267628.550329</td>\n",
       "      <td>supplementary education</td>\n",
       "      <td>education</td>\n",
       "    </tr>\n",
       "    <tr>\n",
       "      <th>4</th>\n",
       "      <td>0</td>\n",
       "      <td>340266.072047</td>\n",
       "      <td>53</td>\n",
       "      <td>secondary education</td>\n",
       "      <td>1</td>\n",
       "      <td>civil partnership</td>\n",
       "      <td>1</td>\n",
       "      <td>F</td>\n",
       "      <td>retiree</td>\n",
       "      <td>0</td>\n",
       "      <td>158616.077870</td>\n",
       "      <td>to have a wedding</td>\n",
       "      <td>wedding</td>\n",
       "    </tr>\n",
       "  </tbody>\n",
       "</table>\n",
       "</div>"
      ],
      "text/plain": [
       "   children  days_employed  dob_years            education  education_id  \\\n",
       "0         1   -8437.673028         42       masters degree             0   \n",
       "1         1   -4024.803754         36  secondary education             1   \n",
       "2         0   -5623.422610         33  Secondary Education             1   \n",
       "3         3   -4124.747207         32  secondary education             1   \n",
       "4         0  340266.072047         53  secondary education             1   \n",
       "\n",
       "       family_status  family_status_id gender income_type  debt  \\\n",
       "0            married                 0      F    employee     0   \n",
       "1            married                 0      F    employee     0   \n",
       "2            married                 0      M    employee     0   \n",
       "3            married                 0      M    employee     0   \n",
       "4  civil partnership                 1      F     retiree     0   \n",
       "\n",
       "    total_income                  purpose purpose_short  \n",
       "0  253875.639453    purchase of the house         house  \n",
       "1  112080.014102             car purchase           car  \n",
       "2  145885.952297    purchase of the house         house  \n",
       "3  267628.550329  supplementary education     education  \n",
       "4  158616.077870        to have a wedding       wedding  "
      ]
     },
     "execution_count": 6,
     "metadata": {},
     "output_type": "execute_result"
    }
   ],
   "source": [
    "df.head()"
   ]
  },
  {
   "cell_type": "code",
   "execution_count": 8,
   "id": "51a572f4-38ca-49e7-8b43-450259472bdc",
   "metadata": {},
   "outputs": [
    {
     "name": "stdout",
     "output_type": "stream",
     "text": [
      "<class 'pandas.core.frame.DataFrame'>\n",
      "RangeIndex: 21525 entries, 0 to 21524\n",
      "Data columns (total 13 columns):\n",
      " #   Column            Non-Null Count  Dtype  \n",
      "---  ------            --------------  -----  \n",
      " 0   children          21525 non-null  int64  \n",
      " 1   days_employed     19351 non-null  float64\n",
      " 2   dob_years         21525 non-null  int64  \n",
      " 3   education         21525 non-null  object \n",
      " 4   education_id      21525 non-null  int64  \n",
      " 5   family_status     21525 non-null  object \n",
      " 6   family_status_id  21525 non-null  int64  \n",
      " 7   gender            21525 non-null  object \n",
      " 8   income_type       21525 non-null  object \n",
      " 9   debt              21525 non-null  int64  \n",
      " 10  total_income      19351 non-null  float64\n",
      " 11  purpose           21525 non-null  object \n",
      " 12  purpose_short     21525 non-null  object \n",
      "dtypes: float64(2), int64(5), object(6)\n",
      "memory usage: 2.1+ MB\n"
     ]
    }
   ],
   "source": [
    "df.info()\n"
   ]
  },
  {
   "cell_type": "code",
   "execution_count": 10,
   "id": "bda3dabf-0e07-444e-9906-1529ccb664dd",
   "metadata": {},
   "outputs": [
    {
     "data": {
      "text/plain": [
       "2174"
      ]
     },
     "execution_count": 10,
     "metadata": {},
     "output_type": "execute_result"
    }
   ],
   "source": [
    "df.describe()\n",
    "# df['days_employed'].isnull().sum()\n",
    "df['total_income'].isnull().sum()"
   ]
  },
  {
   "cell_type": "code",
   "execution_count": 12,
   "id": "b3d81ed2-ae1a-4415-ba74-6ba406f5cd2f",
   "metadata": {},
   "outputs": [
    {
     "data": {
      "text/plain": [
       "array(['house', 'car', 'education', 'wedding', 'estate', 'property'],\n",
       "      dtype=object)"
      ]
     },
     "execution_count": 12,
     "metadata": {},
     "output_type": "execute_result"
    }
   ],
   "source": [
    "df['purpose_short'].unique()"
   ]
  },
  {
   "cell_type": "markdown",
   "id": "2aeac309-6906-4e92-beec-1acf0a886c63",
   "metadata": {},
   "source": [
    "### Question\n",
    "What do you notice about your dataset?\n",
    "\n",
    "Are there any missing values?\n",
    "\n",
    "Are the value ranges as expected? Do you see any attributes having abnormally high or low values?\n",
    "\n",
    "Do you see any features that may require transformations in order for the dataset to be ready for training a ML model?\n",
    "\n",
    "Are there any redundand features?"
   ]
  },
  {
   "cell_type": "markdown",
   "id": "2521333f-80a9-4596-ae47-99bebbea4f28",
   "metadata": {},
   "source": [
    "### ToDo: write your observations\n",
    "- We have non- numerical data in education, family status, gender , income type, education, purpose, purpose_short etc. This will need to be transformed using encoding.\n",
    "- we have categorical data that will be transformed using one-hot ecoding.\n",
    "- days_employed and total_income has missing values.\n",
    "- purpose and purpose_short are redundant, we can drop purpose and work just with purpose_short."
   ]
  },
  {
   "cell_type": "markdown",
   "id": "19d49e86-23eb-4bdd-bc5c-f6828466b073",
   "metadata": {},
   "source": [
    "### Negative values\n",
    "\n",
    "Some values appear to be negative. We can assume that this was probably a data entry error.\n",
    "\n",
    "We can replace them with positive values.\n",
    "\n",
    "You need to create a function called `change_to_positive` which takes a single parameter. The fuction will just return the absolute value of the parameter, i.e. `abs(value)`, where `value` is the name of the parameter."
   ]
  },
  {
   "cell_type": "code",
   "execution_count": 17,
   "id": "0ba83a64-6d3f-48a3-82ba-5730d6f2134e",
   "metadata": {},
   "outputs": [],
   "source": [
    "#ToDo: write function\n",
    "def change_to_positive(column_name):\n",
    "    return abs(column_name)\n",
    "    "
   ]
  },
  {
   "cell_type": "markdown",
   "id": "baf71e13-f8cf-47ad-8580-8f44819427f0",
   "metadata": {},
   "source": [
    "Now we can apply this function to all the items in the feature `children` and replace their existing value."
   ]
  },
  {
   "cell_type": "code",
   "execution_count": 20,
   "id": "a2001ec5-3448-4e0f-8d52-eb46209d5514",
   "metadata": {},
   "outputs": [
    {
     "name": "stdout",
     "output_type": "stream",
     "text": [
      "       children  days_employed  dob_years            education  education_id  \\\n",
      "0             1    8437.673028         42       masters degree             0   \n",
      "1             1    4024.803754         36  secondary education             1   \n",
      "2             0    5623.422610         33  Secondary Education             1   \n",
      "3             3    4124.747207         32  secondary education             1   \n",
      "4             0  340266.072047         53  secondary education             1   \n",
      "...         ...            ...        ...                  ...           ...   \n",
      "21520         1    4529.316663         43  secondary education             1   \n",
      "21521         0  343937.404131         67  secondary education             1   \n",
      "21522         1    2113.346888         38  secondary education             1   \n",
      "21523         3    3112.481705         38  secondary education             1   \n",
      "21524         2    1984.507589         40  secondary education             1   \n",
      "\n",
      "           family_status  family_status_id gender income_type  debt  \\\n",
      "0                married                 0      F    employee     0   \n",
      "1                married                 0      F    employee     0   \n",
      "2                married                 0      M    employee     0   \n",
      "3                married                 0      M    employee     0   \n",
      "4      civil partnership                 1      F     retiree     0   \n",
      "...                  ...               ...    ...         ...   ...   \n",
      "21520  civil partnership                 1      F     partner     0   \n",
      "21521            married                 0      F     retiree     0   \n",
      "21522  civil partnership                 1      M    employee     1   \n",
      "21523            married                 0      M    employee     1   \n",
      "21524            married                 0      F    employee     0   \n",
      "\n",
      "        total_income                  purpose purpose_short  \n",
      "0      253875.639453    purchase of the house         house  \n",
      "1      112080.014102             car purchase           car  \n",
      "2      145885.952297    purchase of the house         house  \n",
      "3      267628.550329  supplementary education     education  \n",
      "4      158616.077870        to have a wedding       wedding  \n",
      "...              ...                      ...           ...  \n",
      "21520  224791.862382     housing transactions         house  \n",
      "21521  155999.806512        purchase of a car           car  \n",
      "21522   89672.561153                 property      property  \n",
      "21523  244093.050500        buying my own car           car  \n",
      "21524   82047.418899             to buy a car           car  \n",
      "\n",
      "[21525 rows x 13 columns]\n"
     ]
    }
   ],
   "source": [
    "# Add code from script\n",
    "df[['children', 'days_employed']] = df[['children', 'days_employed']].map(change_to_positive)\n",
    "print(df)\n"
   ]
  },
  {
   "cell_type": "markdown",
   "id": "026cf0c7-25d1-4f8b-8967-96d5bdd5ac99",
   "metadata": {},
   "source": [
    "Check your dataset to ensure negative values are fixed."
   ]
  },
  {
   "cell_type": "code",
   "execution_count": 23,
   "id": "fb8aa799-f9e4-4b96-a23c-a1beb0c42a05",
   "metadata": {},
   "outputs": [
    {
     "name": "stdout",
     "output_type": "stream",
     "text": [
      "False\n",
      "False\n"
     ]
    }
   ],
   "source": [
    "# ToDo use the appropriate function to quickly check your dataset for negative values\n",
    "# Checks which columns have negative values\n",
    "negatives_in_children = (df['children']< 0).any()\n",
    "print(negatives_in_children)\n",
    "\n",
    "negatives_in_days_employed = (df['days_employed']< 0).any()\n",
    "print(negatives_in_days_employed)\n"
   ]
  },
  {
   "cell_type": "markdown",
   "id": "dcfc9027-9be5-4ba2-8e8c-c41de597d695",
   "metadata": {},
   "source": [
    "## Processing duplicates\n",
    "\n",
    "The features with categorical data may contain duplicate values. We can get a quick view of all the values in a feature using the __[unique](https://pandas.pydata.org/docs/reference/api/pandas.unique.html)__ function. First we can text the values of the field 'family_status':"
   ]
  },
  {
   "cell_type": "code",
   "execution_count": 26,
   "id": "4881c751-4dbc-4c95-affb-99e80fcd4e97",
   "metadata": {},
   "outputs": [
    {
     "data": {
      "text/plain": [
       "array(['married', 'civil partnership', 'widow / widower', 'divorced',\n",
       "       'unmarried'], dtype=object)"
      ]
     },
     "execution_count": 26,
     "metadata": {},
     "output_type": "execute_result"
    }
   ],
   "source": [
    "# Add code from script\n",
    "df['family_status'].unique()"
   ]
  },
  {
   "cell_type": "markdown",
   "id": "5aa3480d-bd92-4b5a-9af6-6020793fb796",
   "metadata": {},
   "source": [
    "They seem fine. All are unique values.\n",
    "\n",
    "Now try the 'education' feature. What do you observe?"
   ]
  },
  {
   "cell_type": "code",
   "execution_count": 29,
   "id": "d86cc4a1-8f69-43c5-9406-d4f32863a55c",
   "metadata": {},
   "outputs": [
    {
     "data": {
      "text/plain": [
       "array(['masters degree', 'secondary education', 'Secondary Education',\n",
       "       'SECONDARY EDUCATION', 'MASTERS DEGREE', 'bachelor degree',\n",
       "       'primary education', 'Masters Degree', 'BACHELOR DEGREE',\n",
       "       'Bachelor Degree', 'PRIMARY EDUCATION', 'Primary Education',\n",
       "       'Academic Degree', 'ACADEMIC DEGREE', 'academic degree'],\n",
       "      dtype=object)"
      ]
     },
     "execution_count": 29,
     "metadata": {},
     "output_type": "execute_result"
    }
   ],
   "source": [
    "# ToDo: check duplicate values on the 'education' feature\n",
    "df['education'].unique()"
   ]
  },
  {
   "cell_type": "markdown",
   "id": "9fd38515-2faf-4d4f-a6cd-4b0a8fe55524",
   "metadata": {},
   "source": [
    "Differences in the capitalisation of the words have created duplicate values. We need to fix this.\n",
    "\n",
    "You need to create a function called `to_lower_value` which takes a single parameter. The fuction will just return the parameter converted to lower case, i.e. `value.lower()`"
   ]
  },
  {
   "cell_type": "code",
   "execution_count": 32,
   "id": "04288a46-abf3-4a17-b796-fad2fa674322",
   "metadata": {},
   "outputs": [],
   "source": [
    "# ToDo: write function\n",
    "def to_lower_value(value): \n",
    "    return value.lower()\n",
    "    "
   ]
  },
  {
   "cell_type": "markdown",
   "id": "ae48d651-4a1b-4bc1-a6ab-2f00813a8bbc",
   "metadata": {},
   "source": [
    "Now we can apply this function to all the items in the feature 'education' and replace the existing values:"
   ]
  },
  {
   "cell_type": "code",
   "execution_count": 35,
   "id": "6b78cf07-5e5c-44de-958c-79f0bda2c022",
   "metadata": {},
   "outputs": [
    {
     "data": {
      "text/plain": [
       "0             masters degree\n",
       "1        secondary education\n",
       "2        secondary education\n",
       "3        secondary education\n",
       "4        secondary education\n",
       "                ...         \n",
       "21520    secondary education\n",
       "21521    secondary education\n",
       "21522    secondary education\n",
       "21523    secondary education\n",
       "21524    secondary education\n",
       "Name: education, Length: 21525, dtype: object"
      ]
     },
     "execution_count": 35,
     "metadata": {},
     "output_type": "execute_result"
    }
   ],
   "source": [
    "df['education'] = df['education'].apply(to_lower_value)\n",
    "df['education']"
   ]
  },
  {
   "cell_type": "markdown",
   "id": "0095ba5e-6602-4b49-a934-4d67aa82358c",
   "metadata": {},
   "source": [
    "Check again the values of the feature 'education'"
   ]
  },
  {
   "cell_type": "code",
   "execution_count": 38,
   "id": "83a69d66-84bb-4978-8f28-3be92fcdbde3",
   "metadata": {},
   "outputs": [
    {
     "data": {
      "text/plain": [
       "0        False\n",
       "1        False\n",
       "2         True\n",
       "3         True\n",
       "4         True\n",
       "         ...  \n",
       "21520     True\n",
       "21521     True\n",
       "21522     True\n",
       "21523     True\n",
       "21524     True\n",
       "Name: education, Length: 21525, dtype: bool"
      ]
     },
     "execution_count": 38,
     "metadata": {},
     "output_type": "execute_result"
    }
   ],
   "source": [
    "# ToDo: check duplicates for 'education'\n",
    "df['education'].duplicated()"
   ]
  },
  {
   "cell_type": "markdown",
   "id": "c9642115-8d42-4dd1-a758-68a6746f5909",
   "metadata": {},
   "source": [
    "### Feature 'purpose'\n",
    "\n",
    "Check the duplicate values for both the features 'purpose' and 'purpose_short'. What do you observe?\n",
    "\n",
    "Do you need both features in your dataset?"
   ]
  },
  {
   "cell_type": "code",
   "execution_count": 41,
   "id": "1b5e01f9-5f52-4fdd-a9a9-c21ff7013b0b",
   "metadata": {},
   "outputs": [
    {
     "data": {
      "text/plain": [
       "0        False\n",
       "1        False\n",
       "2         True\n",
       "3        False\n",
       "4        False\n",
       "         ...  \n",
       "21520     True\n",
       "21521     True\n",
       "21522     True\n",
       "21523     True\n",
       "21524     True\n",
       "Name: purpose, Length: 21525, dtype: bool"
      ]
     },
     "execution_count": 41,
     "metadata": {},
     "output_type": "execute_result"
    }
   ],
   "source": [
    "# ToDo: check duplicates for puprose\n",
    "df['purpose'].duplicated()"
   ]
  },
  {
   "cell_type": "code",
   "execution_count": 43,
   "id": "a79bdafa-0644-4523-81fb-0722098735f2",
   "metadata": {},
   "outputs": [
    {
     "data": {
      "text/plain": [
       "0        False\n",
       "1        False\n",
       "2         True\n",
       "3        False\n",
       "4        False\n",
       "         ...  \n",
       "21520     True\n",
       "21521     True\n",
       "21522     True\n",
       "21523     True\n",
       "21524     True\n",
       "Name: purpose_short, Length: 21525, dtype: bool"
      ]
     },
     "execution_count": 43,
     "metadata": {},
     "output_type": "execute_result"
    }
   ],
   "source": [
    "# ToDo: check duplicates for purpose_short\n",
    "df['purpose_short'].duplicated()"
   ]
  },
  {
   "cell_type": "markdown",
   "id": "63a9cbca-10dd-49c5-a62d-9ccb3ecfbfe4",
   "metadata": {},
   "source": [
    "If you need to remove one of the features you can use the Pandas method __[drop](https://pandas.pydata.org/pandas-docs/stable/reference/api/pandas.DataFrame.drop.html)__, i.e. `df.drop(\"column_name\", axis=1)`"
   ]
  },
  {
   "cell_type": "code",
   "execution_count": 48,
   "id": "35ed38ac-ad2b-40a4-8012-1e8195148be8",
   "metadata": {},
   "outputs": [],
   "source": [
    "# ToDo: drop redundand feature\n",
    "df.drop('purpose', axis=1,inplace=True)"
   ]
  },
  {
   "cell_type": "markdown",
   "id": "0c06311c-82df-4033-aa4a-e9a0d2b26210",
   "metadata": {},
   "source": [
    "### Check all other categorical values for duplicates\n",
    "\n",
    "Insert more coding blocks if necessary, using the buttons on the right."
   ]
  },
  {
   "cell_type": "code",
   "execution_count": 51,
   "id": "0038ac34-948b-4f48-9c88-d1a214f93d73",
   "metadata": {},
   "outputs": [
    {
     "data": {
      "text/plain": [
       "0        False\n",
       "1         True\n",
       "2         True\n",
       "3         True\n",
       "4        False\n",
       "         ...  \n",
       "21520     True\n",
       "21521     True\n",
       "21522     True\n",
       "21523     True\n",
       "21524     True\n",
       "Name: income_type, Length: 21525, dtype: bool"
      ]
     },
     "execution_count": 51,
     "metadata": {},
     "output_type": "execute_result"
    }
   ],
   "source": [
    "#ToDo check for duplicates\n",
    "df['family_status'].duplicated()\n",
    "df['income_type'].duplicated()"
   ]
  },
  {
   "cell_type": "markdown",
   "id": "05b568d3-b8a5-4b2f-a9ec-ce123ae7705b",
   "metadata": {},
   "source": [
    "### Check point\n",
    "Now all your values should be free from any duplicates."
   ]
  },
  {
   "cell_type": "markdown",
   "id": "e0befecb-bfbc-4404-afc9-2d33884a3f40",
   "metadata": {},
   "source": [
    "## Processing missing values\n",
    "\n",
    "You may have observed that some fields have null values. Hint: you can see this when you inspect the output of the `info()` function.\n",
    "\n",
    "First we can extract all the samples that contain at least one null value.\n"
   ]
  },
  {
   "cell_type": "code",
   "execution_count": 55,
   "id": "fd9e23e8-5cee-4955-b18f-a519ce93ab3b",
   "metadata": {},
   "outputs": [
    {
     "name": "stdout",
     "output_type": "stream",
     "text": [
      "<class 'pandas.core.frame.DataFrame'>\n",
      "RangeIndex: 21525 entries, 0 to 21524\n",
      "Data columns (total 12 columns):\n",
      " #   Column            Non-Null Count  Dtype  \n",
      "---  ------            --------------  -----  \n",
      " 0   children          21525 non-null  int64  \n",
      " 1   days_employed     19351 non-null  float64\n",
      " 2   dob_years         21525 non-null  int64  \n",
      " 3   education         21525 non-null  object \n",
      " 4   education_id      21525 non-null  int64  \n",
      " 5   family_status     21525 non-null  object \n",
      " 6   family_status_id  21525 non-null  int64  \n",
      " 7   gender            21525 non-null  object \n",
      " 8   income_type       21525 non-null  object \n",
      " 9   debt              21525 non-null  int64  \n",
      " 10  total_income      19351 non-null  float64\n",
      " 11  purpose_short     21525 non-null  object \n",
      "dtypes: float64(2), int64(5), object(5)\n",
      "memory usage: 2.0+ MB\n"
     ]
    }
   ],
   "source": [
    "df.info()"
   ]
  },
  {
   "cell_type": "code",
   "execution_count": 57,
   "id": "91e165f6-e498-4cf0-9154-8720e3baca73",
   "metadata": {},
   "outputs": [],
   "source": [
    "# Add code from script\n",
    "null_fields=df[df.isnull().any(axis=1)]"
   ]
  },
  {
   "cell_type": "markdown",
   "id": "4422cecd-dddc-456b-9c72-ce0cc00b9891",
   "metadata": {},
   "source": [
    "*Explanation* \n",
    "\n",
    "The method `df.isnull()` returns for every field the value True/False if that field has a null value.\n",
    "\n",
    "The method `.any(axis=1)` returns True for every row if at least one of the values in that row is 'True'. By chaining the two functions we produce a list with data frames with the value True/False to indicate if that frame has a null value.\n",
    "\n",
    "The `df[...]` supports selections of items based on a boolean expression. In this case we select only the frames that have a null value."
   ]
  },
  {
   "cell_type": "code",
   "execution_count": 60,
   "id": "ecd33754-a02a-4619-9149-ef70921b6acf",
   "metadata": {},
   "outputs": [
    {
     "data": {
      "text/plain": [
       "(2174, 12)"
      ]
     },
     "execution_count": 60,
     "metadata": {},
     "output_type": "execute_result"
    }
   ],
   "source": [
    "# Add code from script\n",
    "null_fields.shape\n"
   ]
  },
  {
   "cell_type": "markdown",
   "id": "3757f1fb-ef2e-472b-a54a-8f5ae5e1c4da",
   "metadata": {},
   "source": [
    "### ToDo\n",
    "Go to your observations at the start and check the size of your dataset and how many missing values you have for each field.\n",
    "- Dataset size: **21525**\n",
    "- Missing values days_employed: **2174**\n",
    "- Missing values total_income: **2174**\n"
   ]
  },
  {
   "cell_type": "markdown",
   "id": "72c6ea5c-043f-41df-ac5a-b856de0bd9ea",
   "metadata": {},
   "source": [
    "The `null_fields` dataframe seems to hold the same size of items as the number of missing values for each feature. That indicates that every frame that has a missing value for `days_employed` also holds a missing value for `total_income`.\n",
    "That could initially indicate that maybe these frames represent unemployed people. We need to verify this."
   ]
  },
  {
   "cell_type": "code",
   "execution_count": 64,
   "id": "5330e469-a2e3-4000-88a1-bdbfadde8ae6",
   "metadata": {},
   "outputs": [
    {
     "data": {
      "text/html": [
       "<div>\n",
       "<style scoped>\n",
       "    .dataframe tbody tr th:only-of-type {\n",
       "        vertical-align: middle;\n",
       "    }\n",
       "\n",
       "    .dataframe tbody tr th {\n",
       "        vertical-align: top;\n",
       "    }\n",
       "\n",
       "    .dataframe thead th {\n",
       "        text-align: right;\n",
       "    }\n",
       "</style>\n",
       "<table border=\"1\" class=\"dataframe\">\n",
       "  <thead>\n",
       "    <tr style=\"text-align: right;\">\n",
       "      <th></th>\n",
       "      <th>children</th>\n",
       "      <th>days_employed</th>\n",
       "      <th>dob_years</th>\n",
       "      <th>education</th>\n",
       "      <th>education_id</th>\n",
       "      <th>family_status</th>\n",
       "      <th>family_status_id</th>\n",
       "      <th>gender</th>\n",
       "      <th>income_type</th>\n",
       "      <th>debt</th>\n",
       "      <th>total_income</th>\n",
       "      <th>purpose_short</th>\n",
       "    </tr>\n",
       "  </thead>\n",
       "  <tbody>\n",
       "    <tr>\n",
       "      <th>12</th>\n",
       "      <td>0</td>\n",
       "      <td>NaN</td>\n",
       "      <td>65</td>\n",
       "      <td>secondary education</td>\n",
       "      <td>1</td>\n",
       "      <td>civil partnership</td>\n",
       "      <td>1</td>\n",
       "      <td>M</td>\n",
       "      <td>retiree</td>\n",
       "      <td>0</td>\n",
       "      <td>NaN</td>\n",
       "      <td>wedding</td>\n",
       "    </tr>\n",
       "    <tr>\n",
       "      <th>26</th>\n",
       "      <td>0</td>\n",
       "      <td>NaN</td>\n",
       "      <td>41</td>\n",
       "      <td>secondary education</td>\n",
       "      <td>1</td>\n",
       "      <td>married</td>\n",
       "      <td>0</td>\n",
       "      <td>M</td>\n",
       "      <td>civil servant</td>\n",
       "      <td>0</td>\n",
       "      <td>NaN</td>\n",
       "      <td>education</td>\n",
       "    </tr>\n",
       "    <tr>\n",
       "      <th>29</th>\n",
       "      <td>0</td>\n",
       "      <td>NaN</td>\n",
       "      <td>63</td>\n",
       "      <td>secondary education</td>\n",
       "      <td>1</td>\n",
       "      <td>unmarried</td>\n",
       "      <td>4</td>\n",
       "      <td>F</td>\n",
       "      <td>retiree</td>\n",
       "      <td>0</td>\n",
       "      <td>NaN</td>\n",
       "      <td>estate</td>\n",
       "    </tr>\n",
       "    <tr>\n",
       "      <th>41</th>\n",
       "      <td>0</td>\n",
       "      <td>NaN</td>\n",
       "      <td>50</td>\n",
       "      <td>secondary education</td>\n",
       "      <td>1</td>\n",
       "      <td>married</td>\n",
       "      <td>0</td>\n",
       "      <td>F</td>\n",
       "      <td>civil servant</td>\n",
       "      <td>0</td>\n",
       "      <td>NaN</td>\n",
       "      <td>car</td>\n",
       "    </tr>\n",
       "    <tr>\n",
       "      <th>55</th>\n",
       "      <td>0</td>\n",
       "      <td>NaN</td>\n",
       "      <td>54</td>\n",
       "      <td>secondary education</td>\n",
       "      <td>1</td>\n",
       "      <td>civil partnership</td>\n",
       "      <td>1</td>\n",
       "      <td>F</td>\n",
       "      <td>retiree</td>\n",
       "      <td>1</td>\n",
       "      <td>NaN</td>\n",
       "      <td>wedding</td>\n",
       "    </tr>\n",
       "    <tr>\n",
       "      <th>...</th>\n",
       "      <td>...</td>\n",
       "      <td>...</td>\n",
       "      <td>...</td>\n",
       "      <td>...</td>\n",
       "      <td>...</td>\n",
       "      <td>...</td>\n",
       "      <td>...</td>\n",
       "      <td>...</td>\n",
       "      <td>...</td>\n",
       "      <td>...</td>\n",
       "      <td>...</td>\n",
       "      <td>...</td>\n",
       "    </tr>\n",
       "    <tr>\n",
       "      <th>21489</th>\n",
       "      <td>2</td>\n",
       "      <td>NaN</td>\n",
       "      <td>47</td>\n",
       "      <td>secondary education</td>\n",
       "      <td>1</td>\n",
       "      <td>married</td>\n",
       "      <td>0</td>\n",
       "      <td>M</td>\n",
       "      <td>partner</td>\n",
       "      <td>0</td>\n",
       "      <td>NaN</td>\n",
       "      <td>car</td>\n",
       "    </tr>\n",
       "    <tr>\n",
       "      <th>21495</th>\n",
       "      <td>1</td>\n",
       "      <td>NaN</td>\n",
       "      <td>50</td>\n",
       "      <td>secondary education</td>\n",
       "      <td>1</td>\n",
       "      <td>civil partnership</td>\n",
       "      <td>1</td>\n",
       "      <td>F</td>\n",
       "      <td>employee</td>\n",
       "      <td>0</td>\n",
       "      <td>NaN</td>\n",
       "      <td>wedding</td>\n",
       "    </tr>\n",
       "    <tr>\n",
       "      <th>21497</th>\n",
       "      <td>0</td>\n",
       "      <td>NaN</td>\n",
       "      <td>48</td>\n",
       "      <td>masters degree</td>\n",
       "      <td>0</td>\n",
       "      <td>married</td>\n",
       "      <td>0</td>\n",
       "      <td>F</td>\n",
       "      <td>partner</td>\n",
       "      <td>0</td>\n",
       "      <td>NaN</td>\n",
       "      <td>property</td>\n",
       "    </tr>\n",
       "    <tr>\n",
       "      <th>21502</th>\n",
       "      <td>1</td>\n",
       "      <td>NaN</td>\n",
       "      <td>42</td>\n",
       "      <td>secondary education</td>\n",
       "      <td>1</td>\n",
       "      <td>married</td>\n",
       "      <td>0</td>\n",
       "      <td>F</td>\n",
       "      <td>employee</td>\n",
       "      <td>0</td>\n",
       "      <td>NaN</td>\n",
       "      <td>estate</td>\n",
       "    </tr>\n",
       "    <tr>\n",
       "      <th>21510</th>\n",
       "      <td>2</td>\n",
       "      <td>NaN</td>\n",
       "      <td>28</td>\n",
       "      <td>secondary education</td>\n",
       "      <td>1</td>\n",
       "      <td>married</td>\n",
       "      <td>0</td>\n",
       "      <td>F</td>\n",
       "      <td>employee</td>\n",
       "      <td>0</td>\n",
       "      <td>NaN</td>\n",
       "      <td>car</td>\n",
       "    </tr>\n",
       "  </tbody>\n",
       "</table>\n",
       "<p>2174 rows × 12 columns</p>\n",
       "</div>"
      ],
      "text/plain": [
       "       children  days_employed  dob_years            education  education_id  \\\n",
       "12            0            NaN         65  secondary education             1   \n",
       "26            0            NaN         41  secondary education             1   \n",
       "29            0            NaN         63  secondary education             1   \n",
       "41            0            NaN         50  secondary education             1   \n",
       "55            0            NaN         54  secondary education             1   \n",
       "...         ...            ...        ...                  ...           ...   \n",
       "21489         2            NaN         47  secondary education             1   \n",
       "21495         1            NaN         50  secondary education             1   \n",
       "21497         0            NaN         48       masters degree             0   \n",
       "21502         1            NaN         42  secondary education             1   \n",
       "21510         2            NaN         28  secondary education             1   \n",
       "\n",
       "           family_status  family_status_id gender    income_type  debt  \\\n",
       "12     civil partnership                 1      M        retiree     0   \n",
       "26               married                 0      M  civil servant     0   \n",
       "29             unmarried                 4      F        retiree     0   \n",
       "41               married                 0      F  civil servant     0   \n",
       "55     civil partnership                 1      F        retiree     1   \n",
       "...                  ...               ...    ...            ...   ...   \n",
       "21489            married                 0      M        partner     0   \n",
       "21495  civil partnership                 1      F       employee     0   \n",
       "21497            married                 0      F        partner     0   \n",
       "21502            married                 0      F       employee     0   \n",
       "21510            married                 0      F       employee     0   \n",
       "\n",
       "       total_income purpose_short  \n",
       "12              NaN       wedding  \n",
       "26              NaN     education  \n",
       "29              NaN        estate  \n",
       "41              NaN           car  \n",
       "55              NaN       wedding  \n",
       "...             ...           ...  \n",
       "21489           NaN           car  \n",
       "21495           NaN       wedding  \n",
       "21497           NaN      property  \n",
       "21502           NaN        estate  \n",
       "21510           NaN           car  \n",
       "\n",
       "[2174 rows x 12 columns]"
      ]
     },
     "execution_count": 64,
     "metadata": {},
     "output_type": "execute_result"
    }
   ],
   "source": [
    "# ToDo: check all the unique values for 'income_type' in the null_fields dataframe\n",
    "null_fields"
   ]
  },
  {
   "cell_type": "markdown",
   "id": "16ad3d42-757e-44a4-8fa3-e6d01e44bff7",
   "metadata": {},
   "source": [
    "It appears that the missing values are not related to employment type.\n",
    "\n",
    "It is likely that the values are missing because clients opted out from suplying such information.\n",
    "\n",
    "The best approach would be to replace these null values with representative values from similar clients. I good approach would to see what is the median value for people with the same education level and income type, and asign these values for the missing values.\n",
    "\n",
    "First we will filter all entries in our dataset for a given education level and income type. We use the `[<expression>]` selector, using a logical expression to filter specific records."
   ]
  },
  {
   "cell_type": "code",
   "execution_count": 67,
   "id": "afd38593-3887-477e-8a16-4e9f389f1770",
   "metadata": {},
   "outputs": [
    {
     "data": {
      "text/plain": [
       "1613.581419770452"
      ]
     },
     "execution_count": 67,
     "metadata": {},
     "output_type": "execute_result"
    }
   ],
   "source": [
    "# Example: selecting all records with 'secondary education' and income 'employee'\n",
    "find_median_data = df[ (df['education']=='secondary education') & (df['income_type']=='employee') ].copy()\n",
    "#print(find_median_data)\n",
    "# Print median values\n",
    "find_median_data['days_employed'].median()\n"
   ]
  },
  {
   "cell_type": "markdown",
   "id": "b9db3e96-2332-4f9b-88b2-b86a479b52ad",
   "metadata": {},
   "source": [
    "### ToDo Write a function\n",
    "\n",
    "Using the code above as the example, write a function called `find_median` which should take two parameters `education` and `income`.\n",
    "The function should extract the list of matching records for the specified education and income.\n",
    "Then assign the median for `days_employed` to a variable `median_days`, and the median for `total_income` to a variable `median_income`.\n",
    "The values should be returned as a list (the return line is provided).\n"
   ]
  },
  {
   "cell_type": "code",
   "execution_count": 70,
   "id": "753f97c5-558d-475d-92ce-69a934de60b1",
   "metadata": {},
   "outputs": [],
   "source": [
    "# ToDo: complete the function\n",
    "def find_median(education, income):\n",
    "    \n",
    "    filtered_df = df[(df['education'] == education) & (df['income_type'] == income)].copy()\n",
    "    \n",
    "    # Calculate medians\n",
    "    median_days = filtered_df['days_employed'].median()\n",
    "    median_income = filtered_df['total_income'].median()\n",
    "    return median_days, median_income\n",
    "\n",
    "# Test your function"
   ]
  },
  {
   "cell_type": "code",
   "execution_count": 72,
   "id": "db132248-dcea-49a5-b416-186f039a2353",
   "metadata": {},
   "outputs": [],
   "source": [
    "median_values = find_median('secondary education', 'retiree')\n",
    "#print(median_values)\n",
    "df['days_employed'] = df['days_employed'].fillna(median_values[0])\n",
    "df['total_income'] = df['total_income'].fillna(median_values[1])\n"
   ]
  },
  {
   "cell_type": "markdown",
   "id": "d646cabd-468b-440b-8578-0e1943503ee6",
   "metadata": {},
   "source": [
    "Now we can write a for-loop to go through the records and replace the relevant values."
   ]
  },
  {
   "cell_type": "code",
   "execution_count": 75,
   "id": "4956b601-51fe-4f91-b986-f90853ec3a35",
   "metadata": {},
   "outputs": [],
   "source": [
    "for i in df[df.isnull().any(axis=1)].index:\n",
    " median_result = find_median(df.loc[i,'education'], df.loc[i,'income_type'])\n",
    " df.loc[i,'days_employed'] = median_result[0]\n",
    " df.loc[i,'total_income'] = median_result[1]"
   ]
  },
  {
   "cell_type": "markdown",
   "id": "c64b02b4-7411-46b8-9a35-4d9393357aa9",
   "metadata": {},
   "source": [
    "*Explanation*\n",
    "\n",
    "- `df[df.isnull().any(axis=1)].index` generates a list with all the frame ids that contain a null value.\n",
    "- `df.loc[i,'total_income']` set the value for a combination of row-col values.\n"
   ]
  },
  {
   "cell_type": "markdown",
   "id": "269fa82d-6a3b-428a-b1f1-775aebdc5783",
   "metadata": {},
   "source": [
    "### Check point\n",
    "\n",
    "Check your progress. Use `info` function to look at your dataset. You should now have no null values."
   ]
  },
  {
   "cell_type": "code",
   "execution_count": 79,
   "id": "252d19d6-3d7f-44f5-9932-325185afe3ba",
   "metadata": {},
   "outputs": [
    {
     "name": "stdout",
     "output_type": "stream",
     "text": [
      "<class 'pandas.core.frame.DataFrame'>\n",
      "RangeIndex: 21525 entries, 0 to 21524\n",
      "Data columns (total 12 columns):\n",
      " #   Column            Non-Null Count  Dtype  \n",
      "---  ------            --------------  -----  \n",
      " 0   children          21525 non-null  int64  \n",
      " 1   days_employed     21525 non-null  float64\n",
      " 2   dob_years         21525 non-null  int64  \n",
      " 3   education         21525 non-null  object \n",
      " 4   education_id      21525 non-null  int64  \n",
      " 5   family_status     21525 non-null  object \n",
      " 6   family_status_id  21525 non-null  int64  \n",
      " 7   gender            21525 non-null  object \n",
      " 8   income_type       21525 non-null  object \n",
      " 9   debt              21525 non-null  int64  \n",
      " 10  total_income      21525 non-null  float64\n",
      " 11  purpose_short     21525 non-null  object \n",
      "dtypes: float64(2), int64(5), object(5)\n",
      "memory usage: 2.0+ MB\n"
     ]
    }
   ],
   "source": [
    "df.info()\n"
   ]
  },
  {
   "cell_type": "markdown",
   "id": "747d2845-3d20-41d6-a069-895590cd6eb8",
   "metadata": {},
   "source": [
    "## Fixing data types\n",
    "\n",
    "Some fields appear to have numerical values set as floats, but their value should be integer. Specifically `days_employed` and `total_income` should be integers.\n",
    "We can quickly change those data types.\n",
    "\n",
    "### ToDo\n",
    "Write a function called `data_type_int` that takes one parameter. The function should return the parameter after converting it to an integer using the function `int(value)`."
   ]
  },
  {
   "cell_type": "code",
   "execution_count": 82,
   "id": "d2fb3f0a-2b5c-4210-84e6-cf92e29f4711",
   "metadata": {},
   "outputs": [],
   "source": [
    "# ToDo: write function\n",
    "def data_type_int(value):\n",
    "    return int(value)\n",
    "    \n",
    "    "
   ]
  },
  {
   "cell_type": "markdown",
   "id": "03bd18b4-9baa-4acf-91f4-ff4ae3a9cb8a",
   "metadata": {},
   "source": [
    "We can apply the function to the fields we want to convert."
   ]
  },
  {
   "cell_type": "code",
   "execution_count": 85,
   "id": "84446d1d-e19a-48f1-987f-2c29ce5d612b",
   "metadata": {},
   "outputs": [],
   "source": [
    "# Add code from script\n",
    "df['days_employed'] = df['days_employed'].apply(data_type_int)"
   ]
  },
  {
   "cell_type": "code",
   "execution_count": 87,
   "id": "6021c40e-34de-4e19-a536-4f400a12d94a",
   "metadata": {},
   "outputs": [],
   "source": [
    "# ToDo: apply to total_income\n",
    "df['total_income'] = df['total_income'].apply(data_type_int)"
   ]
  },
  {
   "cell_type": "code",
   "execution_count": 89,
   "id": "bc0d1eb4-ea2c-4962-be43-d7d7a62ae21b",
   "metadata": {},
   "outputs": [
    {
     "data": {
      "text/html": [
       "<div>\n",
       "<style scoped>\n",
       "    .dataframe tbody tr th:only-of-type {\n",
       "        vertical-align: middle;\n",
       "    }\n",
       "\n",
       "    .dataframe tbody tr th {\n",
       "        vertical-align: top;\n",
       "    }\n",
       "\n",
       "    .dataframe thead th {\n",
       "        text-align: right;\n",
       "    }\n",
       "</style>\n",
       "<table border=\"1\" class=\"dataframe\">\n",
       "  <thead>\n",
       "    <tr style=\"text-align: right;\">\n",
       "      <th></th>\n",
       "      <th>children</th>\n",
       "      <th>days_employed</th>\n",
       "      <th>dob_years</th>\n",
       "      <th>education</th>\n",
       "      <th>education_id</th>\n",
       "      <th>family_status</th>\n",
       "      <th>family_status_id</th>\n",
       "      <th>gender</th>\n",
       "      <th>income_type</th>\n",
       "      <th>debt</th>\n",
       "      <th>total_income</th>\n",
       "      <th>purpose_short</th>\n",
       "    </tr>\n",
       "  </thead>\n",
       "  <tbody>\n",
       "    <tr>\n",
       "      <th>5656</th>\n",
       "      <td>2</td>\n",
       "      <td>719</td>\n",
       "      <td>43</td>\n",
       "      <td>secondary education</td>\n",
       "      <td>1</td>\n",
       "      <td>married</td>\n",
       "      <td>0</td>\n",
       "      <td>M</td>\n",
       "      <td>employee</td>\n",
       "      <td>0</td>\n",
       "      <td>166746</td>\n",
       "      <td>car</td>\n",
       "    </tr>\n",
       "    <tr>\n",
       "      <th>18426</th>\n",
       "      <td>0</td>\n",
       "      <td>725</td>\n",
       "      <td>29</td>\n",
       "      <td>masters degree</td>\n",
       "      <td>0</td>\n",
       "      <td>unmarried</td>\n",
       "      <td>4</td>\n",
       "      <td>F</td>\n",
       "      <td>employee</td>\n",
       "      <td>0</td>\n",
       "      <td>164694</td>\n",
       "      <td>property</td>\n",
       "    </tr>\n",
       "    <tr>\n",
       "      <th>1203</th>\n",
       "      <td>0</td>\n",
       "      <td>788</td>\n",
       "      <td>49</td>\n",
       "      <td>secondary education</td>\n",
       "      <td>1</td>\n",
       "      <td>married</td>\n",
       "      <td>0</td>\n",
       "      <td>F</td>\n",
       "      <td>employee</td>\n",
       "      <td>0</td>\n",
       "      <td>201270</td>\n",
       "      <td>property</td>\n",
       "    </tr>\n",
       "    <tr>\n",
       "      <th>11888</th>\n",
       "      <td>0</td>\n",
       "      <td>446</td>\n",
       "      <td>32</td>\n",
       "      <td>secondary education</td>\n",
       "      <td>1</td>\n",
       "      <td>unmarried</td>\n",
       "      <td>4</td>\n",
       "      <td>F</td>\n",
       "      <td>partner</td>\n",
       "      <td>0</td>\n",
       "      <td>201462</td>\n",
       "      <td>estate</td>\n",
       "    </tr>\n",
       "    <tr>\n",
       "      <th>8681</th>\n",
       "      <td>4</td>\n",
       "      <td>365025</td>\n",
       "      <td>33</td>\n",
       "      <td>secondary education</td>\n",
       "      <td>1</td>\n",
       "      <td>married</td>\n",
       "      <td>0</td>\n",
       "      <td>F</td>\n",
       "      <td>civil servant</td>\n",
       "      <td>0</td>\n",
       "      <td>114842</td>\n",
       "      <td>property</td>\n",
       "    </tr>\n",
       "    <tr>\n",
       "      <th>17527</th>\n",
       "      <td>2</td>\n",
       "      <td>1491</td>\n",
       "      <td>32</td>\n",
       "      <td>secondary education</td>\n",
       "      <td>1</td>\n",
       "      <td>married</td>\n",
       "      <td>0</td>\n",
       "      <td>F</td>\n",
       "      <td>employee</td>\n",
       "      <td>0</td>\n",
       "      <td>103093</td>\n",
       "      <td>house</td>\n",
       "    </tr>\n",
       "    <tr>\n",
       "      <th>18266</th>\n",
       "      <td>0</td>\n",
       "      <td>5652</td>\n",
       "      <td>56</td>\n",
       "      <td>secondary education</td>\n",
       "      <td>1</td>\n",
       "      <td>married</td>\n",
       "      <td>0</td>\n",
       "      <td>M</td>\n",
       "      <td>partner</td>\n",
       "      <td>0</td>\n",
       "      <td>312799</td>\n",
       "      <td>car</td>\n",
       "    </tr>\n",
       "    <tr>\n",
       "      <th>7239</th>\n",
       "      <td>0</td>\n",
       "      <td>1627</td>\n",
       "      <td>34</td>\n",
       "      <td>secondary education</td>\n",
       "      <td>1</td>\n",
       "      <td>unmarried</td>\n",
       "      <td>4</td>\n",
       "      <td>M</td>\n",
       "      <td>employee</td>\n",
       "      <td>0</td>\n",
       "      <td>156240</td>\n",
       "      <td>car</td>\n",
       "    </tr>\n",
       "    <tr>\n",
       "      <th>8924</th>\n",
       "      <td>2</td>\n",
       "      <td>2589</td>\n",
       "      <td>27</td>\n",
       "      <td>masters degree</td>\n",
       "      <td>0</td>\n",
       "      <td>civil partnership</td>\n",
       "      <td>1</td>\n",
       "      <td>F</td>\n",
       "      <td>employee</td>\n",
       "      <td>0</td>\n",
       "      <td>125192</td>\n",
       "      <td>property</td>\n",
       "    </tr>\n",
       "    <tr>\n",
       "      <th>16665</th>\n",
       "      <td>2</td>\n",
       "      <td>1687</td>\n",
       "      <td>27</td>\n",
       "      <td>masters degree</td>\n",
       "      <td>0</td>\n",
       "      <td>married</td>\n",
       "      <td>0</td>\n",
       "      <td>M</td>\n",
       "      <td>civil servant</td>\n",
       "      <td>0</td>\n",
       "      <td>152179</td>\n",
       "      <td>education</td>\n",
       "    </tr>\n",
       "  </tbody>\n",
       "</table>\n",
       "</div>"
      ],
      "text/plain": [
       "       children  days_employed  dob_years            education  education_id  \\\n",
       "5656          2            719         43  secondary education             1   \n",
       "18426         0            725         29       masters degree             0   \n",
       "1203          0            788         49  secondary education             1   \n",
       "11888         0            446         32  secondary education             1   \n",
       "8681          4         365025         33  secondary education             1   \n",
       "17527         2           1491         32  secondary education             1   \n",
       "18266         0           5652         56  secondary education             1   \n",
       "7239          0           1627         34  secondary education             1   \n",
       "8924          2           2589         27       masters degree             0   \n",
       "16665         2           1687         27       masters degree             0   \n",
       "\n",
       "           family_status  family_status_id gender    income_type  debt  \\\n",
       "5656             married                 0      M       employee     0   \n",
       "18426          unmarried                 4      F       employee     0   \n",
       "1203             married                 0      F       employee     0   \n",
       "11888          unmarried                 4      F        partner     0   \n",
       "8681             married                 0      F  civil servant     0   \n",
       "17527            married                 0      F       employee     0   \n",
       "18266            married                 0      M        partner     0   \n",
       "7239           unmarried                 4      M       employee     0   \n",
       "8924   civil partnership                 1      F       employee     0   \n",
       "16665            married                 0      M  civil servant     0   \n",
       "\n",
       "       total_income purpose_short  \n",
       "5656         166746           car  \n",
       "18426        164694      property  \n",
       "1203         201270      property  \n",
       "11888        201462        estate  \n",
       "8681         114842      property  \n",
       "17527        103093         house  \n",
       "18266        312799           car  \n",
       "7239         156240           car  \n",
       "8924         125192      property  \n",
       "16665        152179     education  "
      ]
     },
     "execution_count": 89,
     "metadata": {},
     "output_type": "execute_result"
    }
   ],
   "source": [
    "# Check your dataset with a random sample of records.\n",
    "# If you run this cell again a different you can check a different random sample.\n",
    "df.sample(10)"
   ]
  },
  {
   "cell_type": "markdown",
   "id": "682acd1d-1109-4752-8eae-4d6ae2ca3236",
   "metadata": {},
   "source": [
    "## Values that are unlikely to be correct\n",
    "\n",
    "We need to check for certain values that do not appear correct. You may have noticed some odd values in the field `children`.\n",
    "\n",
    "First check the range of values in that field using `unique()`"
   ]
  },
  {
   "cell_type": "code",
   "execution_count": 92,
   "id": "7c0a626d-1738-432b-8cfa-d6bb6d444953",
   "metadata": {},
   "outputs": [
    {
     "data": {
      "text/plain": [
       "array([ 1,  0,  3,  2,  4, 20,  5], dtype=int64)"
      ]
     },
     "execution_count": 92,
     "metadata": {},
     "output_type": "execute_result"
    }
   ],
   "source": [
    "# ToDo: check values for field children\n",
    "df['children'].unique()"
   ]
  },
  {
   "cell_type": "markdown",
   "id": "d4874377-ee45-4be8-baad-6f630f02fc34",
   "metadata": {},
   "source": [
    "The value `20` doesn't seem right. It might be a case of miss-typed input and the intended value was `2`.\n",
    "\n",
    "Before thinking of an approach to fix this, we can first check to see how significant the problem is.\n",
    "\n",
    "We can count all the records crouped by the values of `children`."
   ]
  },
  {
   "cell_type": "code",
   "execution_count": 95,
   "id": "45ef20e8-425e-4ee2-a743-f7650c9769a5",
   "metadata": {},
   "outputs": [
    {
     "data": {
      "text/plain": [
       "children\n",
       "0     14149\n",
       "1      4865\n",
       "2      2055\n",
       "3       330\n",
       "20       76\n",
       "4        41\n",
       "5         9\n",
       "Name: count, dtype: int64"
      ]
     },
     "execution_count": 95,
     "metadata": {},
     "output_type": "execute_result"
    }
   ],
   "source": [
    "# Add code from script\n",
    "df['children'].value_counts()"
   ]
  },
  {
   "cell_type": "markdown",
   "id": "7e18f783-30e4-425b-bda9-cdf65f437a85",
   "metadata": {},
   "source": [
    "For a dataset of 21,000 samples, this looks like a very small subset. It might be easier to remove those records.\n",
    "\n",
    "To do this you will need to *select* only the records where the value children is not 20. Code for this would be:\n",
    "`df = df[ df['children']!=20 ]`\n",
    "\n",
    "Alternative you can replace the values with the number `2`. Code for this would be: `df['children'] = df['children'].replace(20, 2)`"
   ]
  },
  {
   "cell_type": "code",
   "execution_count": 98,
   "id": "6ea8cf0c-812e-44ac-9114-2321e888cf4f",
   "metadata": {},
   "outputs": [
    {
     "data": {
      "text/plain": [
       "children\n",
       "0    14149\n",
       "1     4865\n",
       "2     2131\n",
       "3      330\n",
       "4       41\n",
       "5        9\n",
       "Name: count, dtype: int64"
      ]
     },
     "execution_count": 98,
     "metadata": {},
     "output_type": "execute_result"
    }
   ],
   "source": [
    "#ToDo fix the problem with the value 20 for children\n",
    "df['children'] = df['children'].replace(20, 2)\n",
    "#ToDo then check again the value counts for the feature children\n",
    "df['children'].value_counts()"
   ]
  },
  {
   "cell_type": "markdown",
   "id": "5891bd60-debd-40b2-8f26-b6f74526bb3c",
   "metadata": {},
   "source": [
    "### ToDo\n",
    "The field `dob_years` represents the age of a client. Follow a similar approach to see if there are any unusual values in this field. Then try to see how many, and if the number is small you can drop them. Your steps can be to \n",
    "1. check unique values\n",
    "2. count values\n",
    "3. apply a solution (drop values or replace them)"
   ]
  },
  {
   "cell_type": "code",
   "execution_count": 101,
   "id": "d11f4787-789e-428e-afb3-054f560b1b84",
   "metadata": {},
   "outputs": [
    {
     "data": {
      "text/plain": [
       "array([42, 36, 33, 32, 53, 27, 43, 50, 35, 41, 40, 65, 54, 56, 26, 48, 24,\n",
       "       21, 57, 67, 28, 63, 62, 47, 34, 68, 25, 31, 30, 20, 49, 37, 45, 61,\n",
       "       64, 44, 52, 46, 23, 38, 39, 51,  0, 59, 29, 60, 55, 58, 71, 22, 73,\n",
       "       66, 69, 19, 72, 70, 74, 75], dtype=int64)"
      ]
     },
     "execution_count": 101,
     "metadata": {},
     "output_type": "execute_result"
    }
   ],
   "source": [
    "# ToDo: follow the necessary steps to check and clean the field dob_years\n",
    "df['dob_years'].unique()"
   ]
  },
  {
   "cell_type": "code",
   "execution_count": 103,
   "id": "10431214-d700-41c9-bd02-4bb25b0cbcf7",
   "metadata": {},
   "outputs": [
    {
     "data": {
      "text/plain": [
       "dob_years\n",
       "35    617\n",
       "40    609\n",
       "41    607\n",
       "34    603\n",
       "38    598\n",
       "42    597\n",
       "33    581\n",
       "39    573\n",
       "31    560\n",
       "36    555\n",
       "44    547\n",
       "29    545\n",
       "30    540\n",
       "48    538\n",
       "37    537\n",
       "50    514\n",
       "43    513\n",
       "32    510\n",
       "49    508\n",
       "28    503\n",
       "45    497\n",
       "27    493\n",
       "56    487\n",
       "52    484\n",
       "47    480\n",
       "54    479\n",
       "46    475\n",
       "58    461\n",
       "57    460\n",
       "53    459\n",
       "51    448\n",
       "59    444\n",
       "55    443\n",
       "26    408\n",
       "60    377\n",
       "25    357\n",
       "61    355\n",
       "62    352\n",
       "63    269\n",
       "64    265\n",
       "24    264\n",
       "23    254\n",
       "65    194\n",
       "22    183\n",
       "66    183\n",
       "67    167\n",
       "21    111\n",
       "0     101\n",
       "68     99\n",
       "69     85\n",
       "70     65\n",
       "71     58\n",
       "20     51\n",
       "72     33\n",
       "19     14\n",
       "73      8\n",
       "74      6\n",
       "75      1\n",
       "Name: count, dtype: int64"
      ]
     },
     "execution_count": 103,
     "metadata": {},
     "output_type": "execute_result"
    }
   ],
   "source": [
    "# ToDo: follow the necessary steps to check and clean the field dob_years\n",
    "df['dob_years'].value_counts()"
   ]
  },
  {
   "cell_type": "code",
   "execution_count": 105,
   "id": "16fd77b0-14b7-426e-bfe3-d0f9ca10e1f2",
   "metadata": {},
   "outputs": [
    {
     "data": {
      "text/plain": [
       "dob_years\n",
       "35    617\n",
       "40    609\n",
       "41    607\n",
       "34    603\n",
       "38    598\n",
       "42    597\n",
       "33    581\n",
       "39    573\n",
       "31    560\n",
       "36    555\n",
       "44    547\n",
       "29    545\n",
       "30    540\n",
       "48    538\n",
       "37    537\n",
       "50    514\n",
       "43    513\n",
       "32    510\n",
       "49    508\n",
       "28    503\n",
       "45    497\n",
       "27    493\n",
       "56    487\n",
       "52    484\n",
       "47    480\n",
       "54    479\n",
       "46    475\n",
       "58    461\n",
       "57    460\n",
       "53    459\n",
       "51    448\n",
       "59    444\n",
       "55    443\n",
       "26    408\n",
       "60    377\n",
       "25    357\n",
       "61    355\n",
       "62    352\n",
       "63    269\n",
       "64    265\n",
       "24    264\n",
       "23    254\n",
       "65    194\n",
       "22    183\n",
       "66    183\n",
       "67    167\n",
       "21    111\n",
       "68     99\n",
       "69     85\n",
       "70     65\n",
       "71     58\n",
       "20     51\n",
       "72     33\n",
       "19     14\n",
       "73      8\n",
       "74      6\n",
       "75      1\n",
       "Name: count, dtype: int64"
      ]
     },
     "execution_count": 105,
     "metadata": {},
     "output_type": "execute_result"
    }
   ],
   "source": [
    "# ToDo: follow the necessary steps to check and clean the field dob_years\n",
    "df.drop(df[df['dob_years']==0].index, inplace=True)\n",
    "df['dob_years'].value_counts()"
   ]
  },
  {
   "cell_type": "markdown",
   "id": "95027166-932c-4c7c-8762-986ec4beedb9",
   "metadata": {},
   "source": [
    "### ToDo\n",
    "\n",
    "When checking for unique values for the *education* degree you may have noticed the value \"academic degree\" which seems a bit odd, when there are other values for batchelor and master degrees.\n",
    "\n",
    "Follow a similar approach to find out how extensive is the use of this value and see if it would be appropriate to drop it, or perhaps re-assign it to 'batchelor degree'."
   ]
  },
  {
   "cell_type": "code",
   "execution_count": 108,
   "id": "17d9c1d7-da0a-48e3-98c9-5fefb3a5ca3f",
   "metadata": {},
   "outputs": [
    {
     "data": {
      "text/plain": [
       "array(['masters degree', 'secondary education', 'bachelor degree',\n",
       "       'primary education', 'academic degree'], dtype=object)"
      ]
     },
     "execution_count": 108,
     "metadata": {},
     "output_type": "execute_result"
    }
   ],
   "source": [
    "# ToDo check unique values for education\n",
    "df['education'].unique()"
   ]
  },
  {
   "cell_type": "code",
   "execution_count": 110,
   "id": "35eb1a1c-5745-402c-b808-f19f0f6b48af",
   "metadata": {},
   "outputs": [
    {
     "data": {
      "text/plain": [
       "education\n",
       "secondary education    15169\n",
       "masters degree          5225\n",
       "bachelor degree          742\n",
       "primary education        282\n",
       "academic degree            6\n",
       "Name: count, dtype: int64"
      ]
     },
     "execution_count": 110,
     "metadata": {},
     "output_type": "execute_result"
    }
   ],
   "source": [
    "# ToDo check the value counts\n",
    "df['education'].value_counts()"
   ]
  },
  {
   "cell_type": "code",
   "execution_count": 112,
   "id": "13f90ff3-5116-4516-9574-96e94476a469",
   "metadata": {},
   "outputs": [],
   "source": [
    "# ToDo fix the problem with the academic_degree value\n",
    "df['education']= df['education'].replace('academic degree', 'bachelor degree')"
   ]
  },
  {
   "cell_type": "code",
   "execution_count": 114,
   "id": "7ccebe38-6771-4272-8061-8e3aeff8b635",
   "metadata": {},
   "outputs": [
    {
     "data": {
      "text/plain": [
       "education\n",
       "secondary education    15169\n",
       "masters degree          5225\n",
       "bachelor degree          748\n",
       "primary education        282\n",
       "Name: count, dtype: int64"
      ]
     },
     "execution_count": 114,
     "metadata": {},
     "output_type": "execute_result"
    }
   ],
   "source": [
    "# ToDo check your unique values for education to confirm the fix worked\n",
    "df['education'].value_counts()"
   ]
  },
  {
   "cell_type": "markdown",
   "id": "1910baae-b639-4da8-b350-1cc8b8db9ae8",
   "metadata": {},
   "source": [
    "The fields `education` and `education_id` seem to represent the same thing. However the ids that are assigned for each education category may not reflect the inherent ranking that is represented by the education level of the client.\n",
    "It would be better if we replace it with our own values, where the numbers represent the ranking."
   ]
  },
  {
   "cell_type": "code",
   "execution_count": 117,
   "id": "93efa16f-2593-4193-9831-457d9640f655",
   "metadata": {},
   "outputs": [],
   "source": [
    "mapping = {\n",
    "    'primary education': 1,\n",
    "    'secondary education': 2,\n",
    "    'bachelor degree': 3,\n",
    "    'masters degree': 4}\n",
    "\n",
    "#df['education_id'] = pd.DataFrame([ mapping[e] for e in df['education']], index=df.index, columns=['education_n'])\n",
    "df['education_id'] = df['education'].map(mapping)\n"
   ]
  },
  {
   "cell_type": "markdown",
   "id": "0c51e6fa-daf9-4ab0-b978-10549c95c507",
   "metadata": {},
   "source": [
    "*Explanation*\n",
    "\n",
    "`mapping` is a python dictionarry, that associates keys to values.\n",
    "\n",
    "We use a python **comprehension** to perform the mapping for each item in the `education` column.\\\n",
    "The expression `[ mapping[e] for e in df['education']]` specifies that for every item (we name it `e`) in the `df['education']` list we select the value from the dictionarry `mapping`. The *comprehension* returns a list of items after they were transformed.\n",
    "\n",
    "The statement `pd.DataFrame` creates a new pandas dataframe using that list, and we add attributes to specify the index and column name for this dataframe."
   ]
  },
  {
   "cell_type": "markdown",
   "id": "b920afba-2681-4e6a-84cf-3db2d737cf26",
   "metadata": {},
   "source": [
    "### ToDo\n",
    "\n",
    "Check the values of the `gender` feature."
   ]
  },
  {
   "cell_type": "code",
   "execution_count": 121,
   "id": "109fe325-4cae-43df-92d9-5f9ccd5a04ba",
   "metadata": {},
   "outputs": [
    {
     "data": {
      "text/plain": [
       "array(['F', 'M', 'XNA'], dtype=object)"
      ]
     },
     "execution_count": 121,
     "metadata": {},
     "output_type": "execute_result"
    }
   ],
   "source": [
    "#ToDo check values\n",
    "df['gender'].unique()"
   ]
  },
  {
   "cell_type": "code",
   "execution_count": 123,
   "id": "751f30f4-9fd9-4743-a679-686997289c08",
   "metadata": {},
   "outputs": [
    {
     "data": {
      "text/plain": [
       "gender\n",
       "F      14164\n",
       "M       7259\n",
       "XNA        1\n",
       "Name: count, dtype: int64"
      ]
     },
     "execution_count": 123,
     "metadata": {},
     "output_type": "execute_result"
    }
   ],
   "source": [
    "#ToDo check counts\n",
    "df['gender'].value_counts()"
   ]
  },
  {
   "cell_type": "code",
   "execution_count": 125,
   "id": "02fe7fee-5c0b-4170-bb8e-47df11c846dd",
   "metadata": {},
   "outputs": [],
   "source": [
    "#ToDo apply solution to remove the values that are wrong\n",
    "df.drop(df[df['gender']=='XNA'].index, inplace=True)"
   ]
  },
  {
   "cell_type": "markdown",
   "id": "a6cadfa4-279c-4b97-8b51-655295269acd",
   "metadata": {},
   "source": [
    "### Check point\n",
    "Print a sample of your dataset and check their basic statistics using `describe`."
   ]
  },
  {
   "cell_type": "code",
   "execution_count": 128,
   "id": "0d7b2e93-2d14-4a0f-8eef-20f28d24100a",
   "metadata": {},
   "outputs": [
    {
     "data": {
      "text/html": [
       "<div>\n",
       "<style scoped>\n",
       "    .dataframe tbody tr th:only-of-type {\n",
       "        vertical-align: middle;\n",
       "    }\n",
       "\n",
       "    .dataframe tbody tr th {\n",
       "        vertical-align: top;\n",
       "    }\n",
       "\n",
       "    .dataframe thead th {\n",
       "        text-align: right;\n",
       "    }\n",
       "</style>\n",
       "<table border=\"1\" class=\"dataframe\">\n",
       "  <thead>\n",
       "    <tr style=\"text-align: right;\">\n",
       "      <th></th>\n",
       "      <th>children</th>\n",
       "      <th>days_employed</th>\n",
       "      <th>dob_years</th>\n",
       "      <th>education</th>\n",
       "      <th>education_id</th>\n",
       "      <th>family_status</th>\n",
       "      <th>family_status_id</th>\n",
       "      <th>gender</th>\n",
       "      <th>income_type</th>\n",
       "      <th>debt</th>\n",
       "      <th>total_income</th>\n",
       "      <th>purpose_short</th>\n",
       "    </tr>\n",
       "  </thead>\n",
       "  <tbody>\n",
       "    <tr>\n",
       "      <th>8571</th>\n",
       "      <td>0</td>\n",
       "      <td>3115</td>\n",
       "      <td>52</td>\n",
       "      <td>secondary education</td>\n",
       "      <td>2</td>\n",
       "      <td>married</td>\n",
       "      <td>0</td>\n",
       "      <td>F</td>\n",
       "      <td>employee</td>\n",
       "      <td>0</td>\n",
       "      <td>179260</td>\n",
       "      <td>property</td>\n",
       "    </tr>\n",
       "    <tr>\n",
       "      <th>1166</th>\n",
       "      <td>2</td>\n",
       "      <td>1411</td>\n",
       "      <td>24</td>\n",
       "      <td>secondary education</td>\n",
       "      <td>2</td>\n",
       "      <td>civil partnership</td>\n",
       "      <td>1</td>\n",
       "      <td>F</td>\n",
       "      <td>employee</td>\n",
       "      <td>0</td>\n",
       "      <td>145023</td>\n",
       "      <td>wedding</td>\n",
       "    </tr>\n",
       "    <tr>\n",
       "      <th>4797</th>\n",
       "      <td>3</td>\n",
       "      <td>1041</td>\n",
       "      <td>43</td>\n",
       "      <td>masters degree</td>\n",
       "      <td>4</td>\n",
       "      <td>married</td>\n",
       "      <td>0</td>\n",
       "      <td>F</td>\n",
       "      <td>partner</td>\n",
       "      <td>0</td>\n",
       "      <td>194718</td>\n",
       "      <td>property</td>\n",
       "    </tr>\n",
       "    <tr>\n",
       "      <th>6332</th>\n",
       "      <td>0</td>\n",
       "      <td>376614</td>\n",
       "      <td>52</td>\n",
       "      <td>masters degree</td>\n",
       "      <td>4</td>\n",
       "      <td>civil partnership</td>\n",
       "      <td>1</td>\n",
       "      <td>F</td>\n",
       "      <td>retiree</td>\n",
       "      <td>0</td>\n",
       "      <td>373999</td>\n",
       "      <td>estate</td>\n",
       "    </tr>\n",
       "    <tr>\n",
       "      <th>3210</th>\n",
       "      <td>0</td>\n",
       "      <td>365025</td>\n",
       "      <td>56</td>\n",
       "      <td>secondary education</td>\n",
       "      <td>2</td>\n",
       "      <td>married</td>\n",
       "      <td>0</td>\n",
       "      <td>F</td>\n",
       "      <td>employee</td>\n",
       "      <td>0</td>\n",
       "      <td>114842</td>\n",
       "      <td>estate</td>\n",
       "    </tr>\n",
       "    <tr>\n",
       "      <th>11153</th>\n",
       "      <td>3</td>\n",
       "      <td>335188</td>\n",
       "      <td>38</td>\n",
       "      <td>secondary education</td>\n",
       "      <td>2</td>\n",
       "      <td>married</td>\n",
       "      <td>0</td>\n",
       "      <td>F</td>\n",
       "      <td>retiree</td>\n",
       "      <td>0</td>\n",
       "      <td>104207</td>\n",
       "      <td>house</td>\n",
       "    </tr>\n",
       "    <tr>\n",
       "      <th>5913</th>\n",
       "      <td>0</td>\n",
       "      <td>6441</td>\n",
       "      <td>46</td>\n",
       "      <td>secondary education</td>\n",
       "      <td>2</td>\n",
       "      <td>civil partnership</td>\n",
       "      <td>1</td>\n",
       "      <td>F</td>\n",
       "      <td>partner</td>\n",
       "      <td>0</td>\n",
       "      <td>108635</td>\n",
       "      <td>car</td>\n",
       "    </tr>\n",
       "    <tr>\n",
       "      <th>9002</th>\n",
       "      <td>0</td>\n",
       "      <td>1315</td>\n",
       "      <td>34</td>\n",
       "      <td>secondary education</td>\n",
       "      <td>2</td>\n",
       "      <td>married</td>\n",
       "      <td>0</td>\n",
       "      <td>F</td>\n",
       "      <td>employee</td>\n",
       "      <td>0</td>\n",
       "      <td>96605</td>\n",
       "      <td>car</td>\n",
       "    </tr>\n",
       "    <tr>\n",
       "      <th>5827</th>\n",
       "      <td>0</td>\n",
       "      <td>688</td>\n",
       "      <td>46</td>\n",
       "      <td>masters degree</td>\n",
       "      <td>4</td>\n",
       "      <td>married</td>\n",
       "      <td>0</td>\n",
       "      <td>M</td>\n",
       "      <td>employee</td>\n",
       "      <td>0</td>\n",
       "      <td>260258</td>\n",
       "      <td>property</td>\n",
       "    </tr>\n",
       "    <tr>\n",
       "      <th>8072</th>\n",
       "      <td>0</td>\n",
       "      <td>2731</td>\n",
       "      <td>45</td>\n",
       "      <td>secondary education</td>\n",
       "      <td>2</td>\n",
       "      <td>married</td>\n",
       "      <td>0</td>\n",
       "      <td>F</td>\n",
       "      <td>civil servant</td>\n",
       "      <td>0</td>\n",
       "      <td>225473</td>\n",
       "      <td>car</td>\n",
       "    </tr>\n",
       "  </tbody>\n",
       "</table>\n",
       "</div>"
      ],
      "text/plain": [
       "       children  days_employed  dob_years            education  education_id  \\\n",
       "8571          0           3115         52  secondary education             2   \n",
       "1166          2           1411         24  secondary education             2   \n",
       "4797          3           1041         43       masters degree             4   \n",
       "6332          0         376614         52       masters degree             4   \n",
       "3210          0         365025         56  secondary education             2   \n",
       "11153         3         335188         38  secondary education             2   \n",
       "5913          0           6441         46  secondary education             2   \n",
       "9002          0           1315         34  secondary education             2   \n",
       "5827          0            688         46       masters degree             4   \n",
       "8072          0           2731         45  secondary education             2   \n",
       "\n",
       "           family_status  family_status_id gender    income_type  debt  \\\n",
       "8571             married                 0      F       employee     0   \n",
       "1166   civil partnership                 1      F       employee     0   \n",
       "4797             married                 0      F        partner     0   \n",
       "6332   civil partnership                 1      F        retiree     0   \n",
       "3210             married                 0      F       employee     0   \n",
       "11153            married                 0      F        retiree     0   \n",
       "5913   civil partnership                 1      F        partner     0   \n",
       "9002             married                 0      F       employee     0   \n",
       "5827             married                 0      M       employee     0   \n",
       "8072             married                 0      F  civil servant     0   \n",
       "\n",
       "       total_income purpose_short  \n",
       "8571         179260      property  \n",
       "1166         145023       wedding  \n",
       "4797         194718      property  \n",
       "6332         373999        estate  \n",
       "3210         114842        estate  \n",
       "11153        104207         house  \n",
       "5913         108635           car  \n",
       "9002          96605           car  \n",
       "5827         260258      property  \n",
       "8072         225473           car  "
      ]
     },
     "execution_count": 128,
     "metadata": {},
     "output_type": "execute_result"
    }
   ],
   "source": [
    "df.sample(10)"
   ]
  },
  {
   "cell_type": "code",
   "execution_count": 130,
   "id": "33a0e151-9c63-4521-91fa-08f80bb11dd8",
   "metadata": {},
   "outputs": [
    {
     "data": {
      "text/html": [
       "<div>\n",
       "<style scoped>\n",
       "    .dataframe tbody tr th:only-of-type {\n",
       "        vertical-align: middle;\n",
       "    }\n",
       "\n",
       "    .dataframe tbody tr th {\n",
       "        vertical-align: top;\n",
       "    }\n",
       "\n",
       "    .dataframe thead th {\n",
       "        text-align: right;\n",
       "    }\n",
       "</style>\n",
       "<table border=\"1\" class=\"dataframe\">\n",
       "  <thead>\n",
       "    <tr style=\"text-align: right;\">\n",
       "      <th></th>\n",
       "      <th>children</th>\n",
       "      <th>days_employed</th>\n",
       "      <th>dob_years</th>\n",
       "      <th>education_id</th>\n",
       "      <th>family_status_id</th>\n",
       "      <th>debt</th>\n",
       "      <th>total_income</th>\n",
       "    </tr>\n",
       "  </thead>\n",
       "  <tbody>\n",
       "    <tr>\n",
       "      <th>count</th>\n",
       "      <td>21423.000000</td>\n",
       "      <td>21423.000000</td>\n",
       "      <td>21423.000000</td>\n",
       "      <td>21423.000000</td>\n",
       "      <td>21423.000000</td>\n",
       "      <td>21423.000000</td>\n",
       "      <td>2.142300e+04</td>\n",
       "    </tr>\n",
       "    <tr>\n",
       "      <th>mean</th>\n",
       "      <td>0.479671</td>\n",
       "      <td>97019.235401</td>\n",
       "      <td>43.498390</td>\n",
       "      <td>2.509499</td>\n",
       "      <td>0.971293</td>\n",
       "      <td>0.080894</td>\n",
       "      <td>1.621474e+05</td>\n",
       "    </tr>\n",
       "    <tr>\n",
       "      <th>std</th>\n",
       "      <td>0.755304</td>\n",
       "      <td>159519.845609</td>\n",
       "      <td>12.246495</td>\n",
       "      <td>0.874109</td>\n",
       "      <td>1.419770</td>\n",
       "      <td>0.272679</td>\n",
       "      <td>9.902210e+04</td>\n",
       "    </tr>\n",
       "    <tr>\n",
       "      <th>min</th>\n",
       "      <td>0.000000</td>\n",
       "      <td>24.000000</td>\n",
       "      <td>19.000000</td>\n",
       "      <td>1.000000</td>\n",
       "      <td>0.000000</td>\n",
       "      <td>0.000000</td>\n",
       "      <td>2.066700e+04</td>\n",
       "    </tr>\n",
       "    <tr>\n",
       "      <th>25%</th>\n",
       "      <td>0.000000</td>\n",
       "      <td>1025.000000</td>\n",
       "      <td>33.000000</td>\n",
       "      <td>2.000000</td>\n",
       "      <td>0.000000</td>\n",
       "      <td>0.000000</td>\n",
       "      <td>1.078215e+05</td>\n",
       "    </tr>\n",
       "    <tr>\n",
       "      <th>50%</th>\n",
       "      <td>0.000000</td>\n",
       "      <td>2611.000000</td>\n",
       "      <td>43.000000</td>\n",
       "      <td>2.000000</td>\n",
       "      <td>0.000000</td>\n",
       "      <td>0.000000</td>\n",
       "      <td>1.355220e+05</td>\n",
       "    </tr>\n",
       "    <tr>\n",
       "      <th>75%</th>\n",
       "      <td>1.000000</td>\n",
       "      <td>333827.500000</td>\n",
       "      <td>53.000000</td>\n",
       "      <td>3.000000</td>\n",
       "      <td>1.000000</td>\n",
       "      <td>0.000000</td>\n",
       "      <td>1.954930e+05</td>\n",
       "    </tr>\n",
       "    <tr>\n",
       "      <th>max</th>\n",
       "      <td>5.000000</td>\n",
       "      <td>401755.000000</td>\n",
       "      <td>75.000000</td>\n",
       "      <td>4.000000</td>\n",
       "      <td>4.000000</td>\n",
       "      <td>1.000000</td>\n",
       "      <td>2.265604e+06</td>\n",
       "    </tr>\n",
       "  </tbody>\n",
       "</table>\n",
       "</div>"
      ],
      "text/plain": [
       "           children  days_employed     dob_years  education_id  \\\n",
       "count  21423.000000   21423.000000  21423.000000  21423.000000   \n",
       "mean       0.479671   97019.235401     43.498390      2.509499   \n",
       "std        0.755304  159519.845609     12.246495      0.874109   \n",
       "min        0.000000      24.000000     19.000000      1.000000   \n",
       "25%        0.000000    1025.000000     33.000000      2.000000   \n",
       "50%        0.000000    2611.000000     43.000000      2.000000   \n",
       "75%        1.000000  333827.500000     53.000000      3.000000   \n",
       "max        5.000000  401755.000000     75.000000      4.000000   \n",
       "\n",
       "       family_status_id          debt  total_income  \n",
       "count      21423.000000  21423.000000  2.142300e+04  \n",
       "mean           0.971293      0.080894  1.621474e+05  \n",
       "std            1.419770      0.272679  9.902210e+04  \n",
       "min            0.000000      0.000000  2.066700e+04  \n",
       "25%            0.000000      0.000000  1.078215e+05  \n",
       "50%            0.000000      0.000000  1.355220e+05  \n",
       "75%            1.000000      0.000000  1.954930e+05  \n",
       "max            4.000000      1.000000  2.265604e+06  "
      ]
     },
     "execution_count": 130,
     "metadata": {},
     "output_type": "execute_result"
    }
   ],
   "source": [
    "#ToDo print sample\n",
    "df.describe()"
   ]
  },
  {
   "cell_type": "code",
   "execution_count": 257,
   "id": "a27bba49-1703-42f2-8265-da94a47edf7e",
   "metadata": {},
   "outputs": [],
   "source": [
    "#ToDo describe\n",
    "# most individuals don't have children\n",
    "# the days_employed appears to have extreme outliers...we have really large values for employment duration.\n",
    "# education _id median is 2 meaning most people have upto secondary education.\n",
    "\"\"\"\n",
    "Data Cleaning: The outliers in days_employed should be investigated and corrected.\n",
    "Correlation Analysis: It would be useful to investigate the correlation between total_income, education_id, and debt to understand potential trends.\n",
    "Distribution of Features: Plotting the distribution of variables like total_income and age\n",
    "could reveal more about the spread and nature of the data.\n",
    "\"\"\""
   ]
  },
  {
   "cell_type": "markdown",
   "id": "fd6dc55b-b36f-4fac-aeb7-8b28614388c5",
   "metadata": {},
   "source": [
    "# Descriptive statistics\n",
    "\n",
    "The dataset is now clean, with all the errors corrected.\n",
    "\n",
    "We can look at some high level statistics to see the quality of the data we have in our set."
   ]
  },
  {
   "cell_type": "markdown",
   "id": "95271340-4597-4f66-ad69-cde5d0b976f6",
   "metadata": {},
   "source": [
    "**ToDo**: Look at the lecture notes and print the feature statistics histogram. This will only show results for numerical values."
   ]
  },
  {
   "cell_type": "code",
   "execution_count": 334,
   "id": "ddef68fc-4e13-492d-9657-6769dab68c5a",
   "metadata": {},
   "outputs": [
    {
     "data": {
      "text/plain": [
       "<Figure size 1200x1000 with 0 Axes>"
      ]
     },
     "metadata": {},
     "output_type": "display_data"
    },
    {
     "data": {
      "image/png": "[encoded data removed]",
      "text/plain": [
       "<Figure size 1200x1000 with 9 Axes>"
      ]
     },
     "metadata": {},
     "output_type": "display_data"
    }
   ],
   "source": [
    "import matplotlib.pyplot as plt\n",
    "plt.figure(figsize=(12,10))\n",
    "df.hist(bins=50, grid=True, figsize=(12,10))\n",
    "plt.show()"
   ]
  },
  {
   "cell_type": "code",
   "execution_count": 261,
   "id": "1c8c0c47-b273-4030-9ebc-efa5879f385a",
   "metadata": {},
   "outputs": [
    {
     "data": {
      "text/html": [
       "<div>\n",
       "<style scoped>\n",
       "    .dataframe tbody tr th:only-of-type {\n",
       "        vertical-align: middle;\n",
       "    }\n",
       "\n",
       "    .dataframe tbody tr th {\n",
       "        vertical-align: top;\n",
       "    }\n",
       "\n",
       "    .dataframe thead th {\n",
       "        text-align: right;\n",
       "    }\n",
       "</style>\n",
       "<table border=\"1\" class=\"dataframe\">\n",
       "  <thead>\n",
       "    <tr style=\"text-align: right;\">\n",
       "      <th></th>\n",
       "      <th>children</th>\n",
       "      <th>days_employed</th>\n",
       "      <th>dob_years</th>\n",
       "      <th>education_id</th>\n",
       "      <th>family_status_id</th>\n",
       "      <th>debt</th>\n",
       "      <th>total_income</th>\n",
       "    </tr>\n",
       "  </thead>\n",
       "  <tbody>\n",
       "    <tr>\n",
       "      <th>children</th>\n",
       "      <td>1.000000</td>\n",
       "      <td>-0.185329</td>\n",
       "      <td>-0.318882</td>\n",
       "      <td>0.032552</td>\n",
       "      <td>-0.157670</td>\n",
       "      <td>0.025324</td>\n",
       "      <td>0.029042</td>\n",
       "    </tr>\n",
       "    <tr>\n",
       "      <th>days_employed</th>\n",
       "      <td>-0.185329</td>\n",
       "      <td>1.000000</td>\n",
       "      <td>0.482365</td>\n",
       "      <td>-0.090085</td>\n",
       "      <td>0.002767</td>\n",
       "      <td>-0.040102</td>\n",
       "      <td>-0.201027</td>\n",
       "    </tr>\n",
       "    <tr>\n",
       "      <th>dob_years</th>\n",
       "      <td>-0.318882</td>\n",
       "      <td>0.482365</td>\n",
       "      <td>1.000000</td>\n",
       "      <td>-0.149727</td>\n",
       "      <td>-0.069105</td>\n",
       "      <td>-0.071946</td>\n",
       "      <td>-0.053875</td>\n",
       "    </tr>\n",
       "    <tr>\n",
       "      <th>education_id</th>\n",
       "      <td>0.032552</td>\n",
       "      <td>-0.090085</td>\n",
       "      <td>-0.149727</td>\n",
       "      <td>1.000000</td>\n",
       "      <td>0.030819</td>\n",
       "      <td>-0.057181</td>\n",
       "      <td>0.210697</td>\n",
       "    </tr>\n",
       "    <tr>\n",
       "      <th>family_status_id</th>\n",
       "      <td>-0.157670</td>\n",
       "      <td>0.002767</td>\n",
       "      <td>-0.069105</td>\n",
       "      <td>0.030819</td>\n",
       "      <td>1.000000</td>\n",
       "      <td>0.020951</td>\n",
       "      <td>-0.008504</td>\n",
       "    </tr>\n",
       "    <tr>\n",
       "      <th>debt</th>\n",
       "      <td>0.025324</td>\n",
       "      <td>-0.040102</td>\n",
       "      <td>-0.071946</td>\n",
       "      <td>-0.057181</td>\n",
       "      <td>0.020951</td>\n",
       "      <td>1.000000</td>\n",
       "      <td>-0.011177</td>\n",
       "    </tr>\n",
       "    <tr>\n",
       "      <th>total_income</th>\n",
       "      <td>0.029042</td>\n",
       "      <td>-0.201027</td>\n",
       "      <td>-0.053875</td>\n",
       "      <td>0.210697</td>\n",
       "      <td>-0.008504</td>\n",
       "      <td>-0.011177</td>\n",
       "      <td>1.000000</td>\n",
       "    </tr>\n",
       "  </tbody>\n",
       "</table>\n",
       "</div>"
      ],
      "text/plain": [
       "                  children  days_employed  dob_years  education_id  \\\n",
       "children          1.000000      -0.185329  -0.318882      0.032552   \n",
       "days_employed    -0.185329       1.000000   0.482365     -0.090085   \n",
       "dob_years        -0.318882       0.482365   1.000000     -0.149727   \n",
       "education_id      0.032552      -0.090085  -0.149727      1.000000   \n",
       "family_status_id -0.157670       0.002767  -0.069105      0.030819   \n",
       "debt              0.025324      -0.040102  -0.071946     -0.057181   \n",
       "total_income      0.029042      -0.201027  -0.053875      0.210697   \n",
       "\n",
       "                  family_status_id      debt  total_income  \n",
       "children                 -0.157670  0.025324      0.029042  \n",
       "days_employed             0.002767 -0.040102     -0.201027  \n",
       "dob_years                -0.069105 -0.071946     -0.053875  \n",
       "education_id              0.030819 -0.057181      0.210697  \n",
       "family_status_id          1.000000  0.020951     -0.008504  \n",
       "debt                      0.020951  1.000000     -0.011177  \n",
       "total_income             -0.008504 -0.011177      1.000000  "
      ]
     },
     "execution_count": 261,
     "metadata": {},
     "output_type": "execute_result"
    }
   ],
   "source": [
    "# ToDo plot the correlation matrix\n",
    "corr_matrix = df.corr(numeric_only=True)\n",
    "corr_matrix"
   ]
  },
  {
   "cell_type": "code",
   "execution_count": 146,
   "id": "926ef7e8-ee4f-4161-a7a3-664fe6eed187",
   "metadata": {},
   "outputs": [
    {
     "data": {
      "text/plain": [
       "debt                1.000000\n",
       "children            0.025324\n",
       "family_status_id    0.020951\n",
       "total_income       -0.011177\n",
       "days_employed      -0.040102\n",
       "education_id       -0.057181\n",
       "dob_years          -0.071946\n",
       "Name: debt, dtype: float64"
      ]
     },
     "execution_count": 146,
     "metadata": {},
     "output_type": "execute_result"
    }
   ],
   "source": [
    "correlation= df.select_dtypes(include=['number']).corr()\n",
    "correlation['debt'].sort_values(ascending=False)"
   ]
  },
  {
   "cell_type": "markdown",
   "id": "9aa5b188-bb4b-400f-8342-0fe97e3d4210",
   "metadata": {},
   "source": [
    "## Your conclusions\n",
    "\n",
    "Look at the correlation results and the histograms.\n",
    "\n",
    "- If you are to build a classifier that tries to predict the liklyhood of someone defaulting on their dept (this is indicated by the `debpt` label) do you think you will be able to do it with this dataset? Explain why and indicate which features are likely to help or not help with this process.\n",
    "\n",
    "Answer: **write answer**\n",
    "\n",
    "- If you have a chance to extend your dataset with more data, what would be the type of data that you would like to get to improve the quality of your classifier?\n",
    "\n",
    "Answer: **write answer**\n"
   ]
  },
  {
   "cell_type": "code",
   "execution_count": 148,
   "id": "aa56b696-6ea4-44be-b289-1016e8a30fff",
   "metadata": {},
   "outputs": [],
   "source": [
    "# Based on the correlations between the debt feature and other features, the correlations are very weak. Because of the weak correlation , bulding a classifier based of this dataset would not be ideal.\n",
    "# maybe adding features like spending habits, demographic data, employment history, credit score would help get stronger correlations."
   ]
  },
  {
   "cell_type": "code",
   "execution_count": null,
   "id": "46f40fef-f136-4a78-a694-e9296c192d79",
   "metadata": {},
   "outputs": [],
   "source": []
  }
 ],
 "metadata": {
  "kernelspec": {
   "display_name": "Python 3 (ipykernel)",
   "language": "python",
   "name": "python3"
  },
  "language_info": {
   "codemirror_mode": {
    "name": "ipython",
    "version": 3
   },
   "file_extension": ".py",
   "mimetype": "text/x-python",
   "name": "python",
   "nbconvert_exporter": "python",
   "pygments_lexer": "ipython3",
   "version": "3.12.4"
  }
 },
 "nbformat": 4,
 "nbformat_minor": 5
}
